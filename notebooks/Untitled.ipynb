{
 "cells": [
  {
   "cell_type": "code",
   "execution_count": 1,
   "metadata": {},
   "outputs": [],
   "source": [
    "import numpy as np\n",
    "import matplotlib.pyplot as plit\n",
    "from skimage import io\n",
    "from skimage import color\n",
    "from skimage.feature import ORB\n",
    "from skimage.feature import match_descriptors\n",
    "from skimage.transform import ProjectiveTransform\n",
    "from skimage.measure import ransac\n",
    "from skimage.transform import SimilarityTransform\n",
    "from skimage.transform import warp\n",
    "from skimage.feature import match_descriptors\n"
   ]
  },
  {
   "cell_type": "code",
   "execution_count": null,
   "metadata": {},
   "outputs": [],
   "source": [
    "class Stitch():\n",
    "    def __init__(self):\n",
    "        pass\n",
    "    def stitcher(self, img_arr_3):\n",
    "        lambda x: color.rgb2gray(io.imread(x))\n",
    "        x = list(map(x, img_arr_3))\n",
    "        orb = ORB(n_keypoints=800, fast_threshold= 0.07)\n",
    "        keypoint_and_descriptors = []\n",
    "        matcher=[]\n",
    "        for img in x:\n",
    "            orb.detect_and_extract(x)\n",
    "            keypoint_and_descriptors.append((orb.keypoints, orb.descriptors))\n",
    "        matches01 = match_descriptors(keypoint_and_descriptors[0][1], keypoint_and_descriptors, cross_check=True)\n",
    "        matches12 = match_descriptors(descriptors1, descriptors2, cross_check=True)\n",
    "        \n"
   ]
  }
 ],
 "metadata": {
  "kernelspec": {
   "display_name": "Python 3",
   "language": "python",
   "name": "python3"
  },
  "language_info": {
   "codemirror_mode": {
    "name": "ipython",
    "version": 3
   },
   "file_extension": ".py",
   "mimetype": "text/x-python",
   "name": "python",
   "nbconvert_exporter": "python",
   "pygments_lexer": "ipython3",
   "version": "3.7.3"
  }
 },
 "nbformat": 4,
 "nbformat_minor": 2
}
